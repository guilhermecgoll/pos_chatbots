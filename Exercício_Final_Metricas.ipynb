{
  "nbformat": 4,
  "nbformat_minor": 0,
  "metadata": {
    "colab": {
      "name": "Exercício Final.ipynb",
      "provenance": [],
      "collapsed_sections": []
    },
    "kernelspec": {
      "name": "python3",
      "display_name": "Python 3"
    },
    "language_info": {
      "name": "python"
    }
  },
  "cells": [
    {
      "cell_type": "code",
      "metadata": {
        "id": "cgjNXufloiCO"
      },
      "source": [
        "import numpy as np\n",
        "import pandas as pd\n",
        "import matplotlib.pyplot as plt\n",
        "import json"
      ],
      "execution_count": 1,
      "outputs": []
    },
    {
      "cell_type": "markdown",
      "metadata": {
        "id": "Oomn--90JsD1"
      },
      "source": [
        "# Carregamento do dataframe"
      ]
    },
    {
      "cell_type": "code",
      "metadata": {
        "colab": {
          "base_uri": "https://localhost:8080/",
          "height": 204
        },
        "id": "OMeknyRKALbA",
        "outputId": "35507bb6-066b-4830-cfeb-5e924a731679"
      },
      "source": [
        "df = pd.read_csv('data.csv')\n",
        "df.head()"
      ],
      "execution_count": 42,
      "outputs": [
        {
          "output_type": "execute_result",
          "data": {
            "text/html": [
              "<div>\n",
              "<style scoped>\n",
              "    .dataframe tbody tr th:only-of-type {\n",
              "        vertical-align: middle;\n",
              "    }\n",
              "\n",
              "    .dataframe tbody tr th {\n",
              "        vertical-align: top;\n",
              "    }\n",
              "\n",
              "    .dataframe thead th {\n",
              "        text-align: right;\n",
              "    }\n",
              "</style>\n",
              "<table border=\"1\" class=\"dataframe\">\n",
              "  <thead>\n",
              "    <tr style=\"text-align: right;\">\n",
              "      <th></th>\n",
              "      <th>id</th>\n",
              "      <th>sender_id</th>\n",
              "      <th>type_name</th>\n",
              "      <th>timestamp</th>\n",
              "      <th>intent_name</th>\n",
              "      <th>action_name</th>\n",
              "      <th>data</th>\n",
              "    </tr>\n",
              "  </thead>\n",
              "  <tbody>\n",
              "    <tr>\n",
              "      <th>0</th>\n",
              "      <td>1</td>\n",
              "      <td>5ef090cb-cf75-425f-a23c-baa8769811b2</td>\n",
              "      <td>action</td>\n",
              "      <td>1.618616e+09</td>\n",
              "      <td>NaN</td>\n",
              "      <td>action_session_start</td>\n",
              "      <td>{\"event\": \"action\", \"timestamp\": 1618616140.48...</td>\n",
              "    </tr>\n",
              "    <tr>\n",
              "      <th>1</th>\n",
              "      <td>2</td>\n",
              "      <td>5ef090cb-cf75-425f-a23c-baa8769811b2</td>\n",
              "      <td>session_started</td>\n",
              "      <td>1.618616e+09</td>\n",
              "      <td>NaN</td>\n",
              "      <td>NaN</td>\n",
              "      <td>{\"event\": \"session_started\", \"timestamp\": 1618...</td>\n",
              "    </tr>\n",
              "    <tr>\n",
              "      <th>2</th>\n",
              "      <td>3</td>\n",
              "      <td>5ef090cb-cf75-425f-a23c-baa8769811b2</td>\n",
              "      <td>action</td>\n",
              "      <td>1.618616e+09</td>\n",
              "      <td>NaN</td>\n",
              "      <td>action_listen</td>\n",
              "      <td>{\"event\": \"action\", \"timestamp\": 1618616140.48...</td>\n",
              "    </tr>\n",
              "    <tr>\n",
              "      <th>3</th>\n",
              "      <td>4</td>\n",
              "      <td>5ef090cb-cf75-425f-a23c-baa8769811b2</td>\n",
              "      <td>user</td>\n",
              "      <td>1.618616e+09</td>\n",
              "      <td>saudacao</td>\n",
              "      <td>NaN</td>\n",
              "      <td>{\"event\": \"user\", \"timestamp\": 1618616140.8380...</td>\n",
              "    </tr>\n",
              "    <tr>\n",
              "      <th>4</th>\n",
              "      <td>5</td>\n",
              "      <td>5ef090cb-cf75-425f-a23c-baa8769811b2</td>\n",
              "      <td>user_featurization</td>\n",
              "      <td>1.618616e+09</td>\n",
              "      <td>NaN</td>\n",
              "      <td>NaN</td>\n",
              "      <td>{\"event\": \"user_featurization\", \"timestamp\": 1...</td>\n",
              "    </tr>\n",
              "  </tbody>\n",
              "</table>\n",
              "</div>"
            ],
            "text/plain": [
              "   id  ...                                               data\n",
              "0   1  ...  {\"event\": \"action\", \"timestamp\": 1618616140.48...\n",
              "1   2  ...  {\"event\": \"session_started\", \"timestamp\": 1618...\n",
              "2   3  ...  {\"event\": \"action\", \"timestamp\": 1618616140.48...\n",
              "3   4  ...  {\"event\": \"user\", \"timestamp\": 1618616140.8380...\n",
              "4   5  ...  {\"event\": \"user_featurization\", \"timestamp\": 1...\n",
              "\n",
              "[5 rows x 7 columns]"
            ]
          },
          "metadata": {
            "tags": []
          },
          "execution_count": 42
        }
      ]
    },
    {
      "cell_type": "code",
      "metadata": {
        "colab": {
          "base_uri": "https://localhost:8080/",
          "height": 513
        },
        "id": "kVXWLV-8APZn",
        "outputId": "a6be641f-88bf-461c-fff2-075a1a3d9f02"
      },
      "source": [
        "#Converte os dados na coluna 'data' (em json) para colunas no dataframe\n",
        "df = pd.concat([df, pd.io.json.json_normalize(df.data.apply(json.loads))], axis=1)\n",
        "df.head()"
      ],
      "execution_count": 43,
      "outputs": [
        {
          "output_type": "stream",
          "text": [
            "/usr/local/lib/python3.7/dist-packages/ipykernel_launcher.py:2: FutureWarning: pandas.io.json.json_normalize is deprecated, use pandas.json_normalize instead\n",
            "  \n"
          ],
          "name": "stderr"
        },
        {
          "output_type": "execute_result",
          "data": {
            "text/html": [
              "<div>\n",
              "<style scoped>\n",
              "    .dataframe tbody tr th:only-of-type {\n",
              "        vertical-align: middle;\n",
              "    }\n",
              "\n",
              "    .dataframe tbody tr th {\n",
              "        vertical-align: top;\n",
              "    }\n",
              "\n",
              "    .dataframe thead th {\n",
              "        text-align: right;\n",
              "    }\n",
              "</style>\n",
              "<table border=\"1\" class=\"dataframe\">\n",
              "  <thead>\n",
              "    <tr style=\"text-align: right;\">\n",
              "      <th></th>\n",
              "      <th>id</th>\n",
              "      <th>sender_id</th>\n",
              "      <th>type_name</th>\n",
              "      <th>timestamp</th>\n",
              "      <th>intent_name</th>\n",
              "      <th>action_name</th>\n",
              "      <th>data</th>\n",
              "      <th>event</th>\n",
              "      <th>timestamp</th>\n",
              "      <th>name</th>\n",
              "      <th>policy</th>\n",
              "      <th>confidence</th>\n",
              "      <th>action_text</th>\n",
              "      <th>text</th>\n",
              "      <th>input_channel</th>\n",
              "      <th>message_id</th>\n",
              "      <th>parse_data.intent.id</th>\n",
              "      <th>parse_data.intent.name</th>\n",
              "      <th>parse_data.intent.confidence</th>\n",
              "      <th>parse_data.entities</th>\n",
              "      <th>parse_data.text</th>\n",
              "      <th>parse_data.message_id</th>\n",
              "      <th>parse_data.intent_ranking</th>\n",
              "      <th>parse_data.response_selector.all_retrieval_intents</th>\n",
              "      <th>parse_data.response_selector.default.response.id</th>\n",
              "      <th>parse_data.response_selector.default.response.responses</th>\n",
              "      <th>parse_data.response_selector.default.response.response_templates</th>\n",
              "      <th>parse_data.response_selector.default.response.confidence</th>\n",
              "      <th>parse_data.response_selector.default.response.intent_response_key</th>\n",
              "      <th>parse_data.response_selector.default.response.utter_action</th>\n",
              "      <th>parse_data.response_selector.default.response.template_name</th>\n",
              "      <th>parse_data.response_selector.default.ranking</th>\n",
              "      <th>use_text_for_featurization</th>\n",
              "      <th>metadata.utter_action</th>\n",
              "      <th>data.elements</th>\n",
              "      <th>data.quick_replies</th>\n",
              "      <th>data.buttons</th>\n",
              "      <th>data.attachment</th>\n",
              "      <th>data.image</th>\n",
              "      <th>data.custom</th>\n",
              "      <th>value</th>\n",
              "    </tr>\n",
              "  </thead>\n",
              "  <tbody>\n",
              "    <tr>\n",
              "      <th>0</th>\n",
              "      <td>1</td>\n",
              "      <td>5ef090cb-cf75-425f-a23c-baa8769811b2</td>\n",
              "      <td>action</td>\n",
              "      <td>1.618616e+09</td>\n",
              "      <td>NaN</td>\n",
              "      <td>action_session_start</td>\n",
              "      <td>{\"event\": \"action\", \"timestamp\": 1618616140.48...</td>\n",
              "      <td>action</td>\n",
              "      <td>1.618616e+09</td>\n",
              "      <td>action_session_start</td>\n",
              "      <td>None</td>\n",
              "      <td>1.0</td>\n",
              "      <td>NaN</td>\n",
              "      <td>NaN</td>\n",
              "      <td>NaN</td>\n",
              "      <td>NaN</td>\n",
              "      <td>NaN</td>\n",
              "      <td>NaN</td>\n",
              "      <td>NaN</td>\n",
              "      <td>NaN</td>\n",
              "      <td>NaN</td>\n",
              "      <td>NaN</td>\n",
              "      <td>NaN</td>\n",
              "      <td>NaN</td>\n",
              "      <td>NaN</td>\n",
              "      <td>NaN</td>\n",
              "      <td>NaN</td>\n",
              "      <td>NaN</td>\n",
              "      <td>NaN</td>\n",
              "      <td>NaN</td>\n",
              "      <td>NaN</td>\n",
              "      <td>NaN</td>\n",
              "      <td>NaN</td>\n",
              "      <td>NaN</td>\n",
              "      <td>NaN</td>\n",
              "      <td>NaN</td>\n",
              "      <td>NaN</td>\n",
              "      <td>NaN</td>\n",
              "      <td>NaN</td>\n",
              "      <td>NaN</td>\n",
              "      <td>NaN</td>\n",
              "    </tr>\n",
              "    <tr>\n",
              "      <th>1</th>\n",
              "      <td>2</td>\n",
              "      <td>5ef090cb-cf75-425f-a23c-baa8769811b2</td>\n",
              "      <td>session_started</td>\n",
              "      <td>1.618616e+09</td>\n",
              "      <td>NaN</td>\n",
              "      <td>NaN</td>\n",
              "      <td>{\"event\": \"session_started\", \"timestamp\": 1618...</td>\n",
              "      <td>session_started</td>\n",
              "      <td>1.618616e+09</td>\n",
              "      <td>NaN</td>\n",
              "      <td>NaN</td>\n",
              "      <td>NaN</td>\n",
              "      <td>NaN</td>\n",
              "      <td>NaN</td>\n",
              "      <td>NaN</td>\n",
              "      <td>NaN</td>\n",
              "      <td>NaN</td>\n",
              "      <td>NaN</td>\n",
              "      <td>NaN</td>\n",
              "      <td>NaN</td>\n",
              "      <td>NaN</td>\n",
              "      <td>NaN</td>\n",
              "      <td>NaN</td>\n",
              "      <td>NaN</td>\n",
              "      <td>NaN</td>\n",
              "      <td>NaN</td>\n",
              "      <td>NaN</td>\n",
              "      <td>NaN</td>\n",
              "      <td>NaN</td>\n",
              "      <td>NaN</td>\n",
              "      <td>NaN</td>\n",
              "      <td>NaN</td>\n",
              "      <td>NaN</td>\n",
              "      <td>NaN</td>\n",
              "      <td>NaN</td>\n",
              "      <td>NaN</td>\n",
              "      <td>NaN</td>\n",
              "      <td>NaN</td>\n",
              "      <td>NaN</td>\n",
              "      <td>NaN</td>\n",
              "      <td>NaN</td>\n",
              "    </tr>\n",
              "    <tr>\n",
              "      <th>2</th>\n",
              "      <td>3</td>\n",
              "      <td>5ef090cb-cf75-425f-a23c-baa8769811b2</td>\n",
              "      <td>action</td>\n",
              "      <td>1.618616e+09</td>\n",
              "      <td>NaN</td>\n",
              "      <td>action_listen</td>\n",
              "      <td>{\"event\": \"action\", \"timestamp\": 1618616140.48...</td>\n",
              "      <td>action</td>\n",
              "      <td>1.618616e+09</td>\n",
              "      <td>action_listen</td>\n",
              "      <td>None</td>\n",
              "      <td>NaN</td>\n",
              "      <td>NaN</td>\n",
              "      <td>NaN</td>\n",
              "      <td>NaN</td>\n",
              "      <td>NaN</td>\n",
              "      <td>NaN</td>\n",
              "      <td>NaN</td>\n",
              "      <td>NaN</td>\n",
              "      <td>NaN</td>\n",
              "      <td>NaN</td>\n",
              "      <td>NaN</td>\n",
              "      <td>NaN</td>\n",
              "      <td>NaN</td>\n",
              "      <td>NaN</td>\n",
              "      <td>NaN</td>\n",
              "      <td>NaN</td>\n",
              "      <td>NaN</td>\n",
              "      <td>NaN</td>\n",
              "      <td>NaN</td>\n",
              "      <td>NaN</td>\n",
              "      <td>NaN</td>\n",
              "      <td>NaN</td>\n",
              "      <td>NaN</td>\n",
              "      <td>NaN</td>\n",
              "      <td>NaN</td>\n",
              "      <td>NaN</td>\n",
              "      <td>NaN</td>\n",
              "      <td>NaN</td>\n",
              "      <td>NaN</td>\n",
              "      <td>NaN</td>\n",
              "    </tr>\n",
              "    <tr>\n",
              "      <th>3</th>\n",
              "      <td>4</td>\n",
              "      <td>5ef090cb-cf75-425f-a23c-baa8769811b2</td>\n",
              "      <td>user</td>\n",
              "      <td>1.618616e+09</td>\n",
              "      <td>saudacao</td>\n",
              "      <td>NaN</td>\n",
              "      <td>{\"event\": \"user\", \"timestamp\": 1618616140.8380...</td>\n",
              "      <td>user</td>\n",
              "      <td>1.618616e+09</td>\n",
              "      <td>NaN</td>\n",
              "      <td>NaN</td>\n",
              "      <td>NaN</td>\n",
              "      <td>NaN</td>\n",
              "      <td>oi</td>\n",
              "      <td>rest</td>\n",
              "      <td>e6785e9a148c4f5bac2234a8c6e791e6</td>\n",
              "      <td>1.117066e+18</td>\n",
              "      <td>saudacao</td>\n",
              "      <td>0.999581</td>\n",
              "      <td>[]</td>\n",
              "      <td>oi</td>\n",
              "      <td>e6785e9a148c4f5bac2234a8c6e791e6</td>\n",
              "      <td>[{'id': 1117065996515008408, 'name': 'saudacao...</td>\n",
              "      <td>[]</td>\n",
              "      <td>NaN</td>\n",
              "      <td>NaN</td>\n",
              "      <td>NaN</td>\n",
              "      <td>0.0</td>\n",
              "      <td>NaN</td>\n",
              "      <td>utter_None</td>\n",
              "      <td>utter_None</td>\n",
              "      <td>[]</td>\n",
              "      <td>NaN</td>\n",
              "      <td>NaN</td>\n",
              "      <td>NaN</td>\n",
              "      <td>NaN</td>\n",
              "      <td>NaN</td>\n",
              "      <td>NaN</td>\n",
              "      <td>NaN</td>\n",
              "      <td>NaN</td>\n",
              "      <td>NaN</td>\n",
              "    </tr>\n",
              "    <tr>\n",
              "      <th>4</th>\n",
              "      <td>5</td>\n",
              "      <td>5ef090cb-cf75-425f-a23c-baa8769811b2</td>\n",
              "      <td>user_featurization</td>\n",
              "      <td>1.618616e+09</td>\n",
              "      <td>NaN</td>\n",
              "      <td>NaN</td>\n",
              "      <td>{\"event\": \"user_featurization\", \"timestamp\": 1...</td>\n",
              "      <td>user_featurization</td>\n",
              "      <td>1.618616e+09</td>\n",
              "      <td>NaN</td>\n",
              "      <td>NaN</td>\n",
              "      <td>NaN</td>\n",
              "      <td>NaN</td>\n",
              "      <td>NaN</td>\n",
              "      <td>NaN</td>\n",
              "      <td>NaN</td>\n",
              "      <td>NaN</td>\n",
              "      <td>NaN</td>\n",
              "      <td>NaN</td>\n",
              "      <td>NaN</td>\n",
              "      <td>NaN</td>\n",
              "      <td>NaN</td>\n",
              "      <td>NaN</td>\n",
              "      <td>NaN</td>\n",
              "      <td>NaN</td>\n",
              "      <td>NaN</td>\n",
              "      <td>NaN</td>\n",
              "      <td>NaN</td>\n",
              "      <td>NaN</td>\n",
              "      <td>NaN</td>\n",
              "      <td>NaN</td>\n",
              "      <td>NaN</td>\n",
              "      <td>False</td>\n",
              "      <td>NaN</td>\n",
              "      <td>NaN</td>\n",
              "      <td>NaN</td>\n",
              "      <td>NaN</td>\n",
              "      <td>NaN</td>\n",
              "      <td>NaN</td>\n",
              "      <td>NaN</td>\n",
              "      <td>NaN</td>\n",
              "    </tr>\n",
              "  </tbody>\n",
              "</table>\n",
              "</div>"
            ],
            "text/plain": [
              "   id                             sender_id  ... data.custom  value\n",
              "0   1  5ef090cb-cf75-425f-a23c-baa8769811b2  ...         NaN    NaN\n",
              "1   2  5ef090cb-cf75-425f-a23c-baa8769811b2  ...         NaN    NaN\n",
              "2   3  5ef090cb-cf75-425f-a23c-baa8769811b2  ...         NaN    NaN\n",
              "3   4  5ef090cb-cf75-425f-a23c-baa8769811b2  ...         NaN    NaN\n",
              "4   5  5ef090cb-cf75-425f-a23c-baa8769811b2  ...         NaN    NaN\n",
              "\n",
              "[5 rows x 41 columns]"
            ]
          },
          "metadata": {
            "tags": []
          },
          "execution_count": 43
        }
      ]
    },
    {
      "cell_type": "code",
      "metadata": {
        "colab": {
          "base_uri": "https://localhost:8080/",
          "height": 317
        },
        "id": "n98GiiiXGmEo",
        "outputId": "332edcd5-7ce8-4ed5-f2b3-baac84f5c868"
      },
      "source": [
        "df.describe()"
      ],
      "execution_count": 44,
      "outputs": [
        {
          "output_type": "execute_result",
          "data": {
            "text/html": [
              "<div>\n",
              "<style scoped>\n",
              "    .dataframe tbody tr th:only-of-type {\n",
              "        vertical-align: middle;\n",
              "    }\n",
              "\n",
              "    .dataframe tbody tr th {\n",
              "        vertical-align: top;\n",
              "    }\n",
              "\n",
              "    .dataframe thead th {\n",
              "        text-align: right;\n",
              "    }\n",
              "</style>\n",
              "<table border=\"1\" class=\"dataframe\">\n",
              "  <thead>\n",
              "    <tr style=\"text-align: right;\">\n",
              "      <th></th>\n",
              "      <th>id</th>\n",
              "      <th>timestamp</th>\n",
              "      <th>timestamp</th>\n",
              "      <th>confidence</th>\n",
              "      <th>action_text</th>\n",
              "      <th>parse_data.intent.id</th>\n",
              "      <th>parse_data.intent.confidence</th>\n",
              "      <th>parse_data.response_selector.default.response.id</th>\n",
              "      <th>parse_data.response_selector.default.response.responses</th>\n",
              "      <th>parse_data.response_selector.default.response.response_templates</th>\n",
              "      <th>parse_data.response_selector.default.response.confidence</th>\n",
              "      <th>parse_data.response_selector.default.response.intent_response_key</th>\n",
              "      <th>data.elements</th>\n",
              "      <th>data.quick_replies</th>\n",
              "      <th>data.attachment</th>\n",
              "      <th>data.image</th>\n",
              "      <th>data.custom</th>\n",
              "    </tr>\n",
              "  </thead>\n",
              "  <tbody>\n",
              "    <tr>\n",
              "      <th>count</th>\n",
              "      <td>606.00000</td>\n",
              "      <td>6.060000e+02</td>\n",
              "      <td>6.060000e+02</td>\n",
              "      <td>207.000000</td>\n",
              "      <td>0.0</td>\n",
              "      <td>6.200000e+01</td>\n",
              "      <td>81.000000</td>\n",
              "      <td>0.0</td>\n",
              "      <td>0.0</td>\n",
              "      <td>0.0</td>\n",
              "      <td>68.0</td>\n",
              "      <td>0.0</td>\n",
              "      <td>0.0</td>\n",
              "      <td>0.0</td>\n",
              "      <td>0.0</td>\n",
              "      <td>0.0</td>\n",
              "      <td>0.0</td>\n",
              "    </tr>\n",
              "    <tr>\n",
              "      <th>mean</th>\n",
              "      <td>303.50000</td>\n",
              "      <td>1.618726e+09</td>\n",
              "      <td>1.618726e+09</td>\n",
              "      <td>0.917934</td>\n",
              "      <td>NaN</td>\n",
              "      <td>-9.969229e+17</td>\n",
              "      <td>0.948977</td>\n",
              "      <td>NaN</td>\n",
              "      <td>NaN</td>\n",
              "      <td>NaN</td>\n",
              "      <td>0.0</td>\n",
              "      <td>NaN</td>\n",
              "      <td>NaN</td>\n",
              "      <td>NaN</td>\n",
              "      <td>NaN</td>\n",
              "      <td>NaN</td>\n",
              "      <td>NaN</td>\n",
              "    </tr>\n",
              "    <tr>\n",
              "      <th>std</th>\n",
              "      <td>175.08141</td>\n",
              "      <td>4.210998e+04</td>\n",
              "      <td>4.210998e+04</td>\n",
              "      <td>0.181443</td>\n",
              "      <td>NaN</td>\n",
              "      <td>4.553892e+18</td>\n",
              "      <td>0.146572</td>\n",
              "      <td>NaN</td>\n",
              "      <td>NaN</td>\n",
              "      <td>NaN</td>\n",
              "      <td>0.0</td>\n",
              "      <td>NaN</td>\n",
              "      <td>NaN</td>\n",
              "      <td>NaN</td>\n",
              "      <td>NaN</td>\n",
              "      <td>NaN</td>\n",
              "      <td>NaN</td>\n",
              "    </tr>\n",
              "    <tr>\n",
              "      <th>min</th>\n",
              "      <td>1.00000</td>\n",
              "      <td>1.618616e+09</td>\n",
              "      <td>1.618616e+09</td>\n",
              "      <td>0.300000</td>\n",
              "      <td>NaN</td>\n",
              "      <td>-8.306835e+18</td>\n",
              "      <td>0.359421</td>\n",
              "      <td>NaN</td>\n",
              "      <td>NaN</td>\n",
              "      <td>NaN</td>\n",
              "      <td>0.0</td>\n",
              "      <td>NaN</td>\n",
              "      <td>NaN</td>\n",
              "      <td>NaN</td>\n",
              "      <td>NaN</td>\n",
              "      <td>NaN</td>\n",
              "      <td>NaN</td>\n",
              "    </tr>\n",
              "    <tr>\n",
              "      <th>25%</th>\n",
              "      <td>152.25000</td>\n",
              "      <td>1.618687e+09</td>\n",
              "      <td>1.618687e+09</td>\n",
              "      <td>0.934246</td>\n",
              "      <td>NaN</td>\n",
              "      <td>-5.104035e+18</td>\n",
              "      <td>0.990514</td>\n",
              "      <td>NaN</td>\n",
              "      <td>NaN</td>\n",
              "      <td>NaN</td>\n",
              "      <td>0.0</td>\n",
              "      <td>NaN</td>\n",
              "      <td>NaN</td>\n",
              "      <td>NaN</td>\n",
              "      <td>NaN</td>\n",
              "      <td>NaN</td>\n",
              "      <td>NaN</td>\n",
              "    </tr>\n",
              "    <tr>\n",
              "      <th>50%</th>\n",
              "      <td>303.50000</td>\n",
              "      <td>1.618746e+09</td>\n",
              "      <td>1.618746e+09</td>\n",
              "      <td>0.997410</td>\n",
              "      <td>NaN</td>\n",
              "      <td>-5.292040e+17</td>\n",
              "      <td>0.998779</td>\n",
              "      <td>NaN</td>\n",
              "      <td>NaN</td>\n",
              "      <td>NaN</td>\n",
              "      <td>0.0</td>\n",
              "      <td>NaN</td>\n",
              "      <td>NaN</td>\n",
              "      <td>NaN</td>\n",
              "      <td>NaN</td>\n",
              "      <td>NaN</td>\n",
              "      <td>NaN</td>\n",
              "    </tr>\n",
              "    <tr>\n",
              "      <th>75%</th>\n",
              "      <td>454.75000</td>\n",
              "      <td>1.618763e+09</td>\n",
              "      <td>1.618763e+09</td>\n",
              "      <td>1.000000</td>\n",
              "      <td>NaN</td>\n",
              "      <td>3.102981e+18</td>\n",
              "      <td>0.999895</td>\n",
              "      <td>NaN</td>\n",
              "      <td>NaN</td>\n",
              "      <td>NaN</td>\n",
              "      <td>0.0</td>\n",
              "      <td>NaN</td>\n",
              "      <td>NaN</td>\n",
              "      <td>NaN</td>\n",
              "      <td>NaN</td>\n",
              "      <td>NaN</td>\n",
              "      <td>NaN</td>\n",
              "    </tr>\n",
              "    <tr>\n",
              "      <th>max</th>\n",
              "      <td>606.00000</td>\n",
              "      <td>1.618763e+09</td>\n",
              "      <td>1.618763e+09</td>\n",
              "      <td>1.000000</td>\n",
              "      <td>NaN</td>\n",
              "      <td>8.477700e+18</td>\n",
              "      <td>1.000000</td>\n",
              "      <td>NaN</td>\n",
              "      <td>NaN</td>\n",
              "      <td>NaN</td>\n",
              "      <td>0.0</td>\n",
              "      <td>NaN</td>\n",
              "      <td>NaN</td>\n",
              "      <td>NaN</td>\n",
              "      <td>NaN</td>\n",
              "      <td>NaN</td>\n",
              "      <td>NaN</td>\n",
              "    </tr>\n",
              "  </tbody>\n",
              "</table>\n",
              "</div>"
            ],
            "text/plain": [
              "              id     timestamp  ...  data.image  data.custom\n",
              "count  606.00000  6.060000e+02  ...         0.0          0.0\n",
              "mean   303.50000  1.618726e+09  ...         NaN          NaN\n",
              "std    175.08141  4.210998e+04  ...         NaN          NaN\n",
              "min      1.00000  1.618616e+09  ...         NaN          NaN\n",
              "25%    152.25000  1.618687e+09  ...         NaN          NaN\n",
              "50%    303.50000  1.618746e+09  ...         NaN          NaN\n",
              "75%    454.75000  1.618763e+09  ...         NaN          NaN\n",
              "max    606.00000  1.618763e+09  ...         NaN          NaN\n",
              "\n",
              "[8 rows x 17 columns]"
            ]
          },
          "metadata": {
            "tags": []
          },
          "execution_count": 44
        }
      ]
    },
    {
      "cell_type": "code",
      "metadata": {
        "colab": {
          "base_uri": "https://localhost:8080/"
        },
        "id": "aGZkuaTFClXu",
        "outputId": "a433e140-38c2-4832-cb7d-18bef6c120a8"
      },
      "source": [
        "df.intent_name.value_counts()"
      ],
      "execution_count": 46,
      "outputs": [
        {
          "output_type": "execute_result",
          "data": {
            "text/plain": [
              "agendar_atendimento    17\n",
              "ajuda                  13\n",
              "alvara_sanitario       10\n",
              "confirmacao             9\n",
              "consultar_iptu          8\n",
              "ligar_eletricidade      7\n",
              "saudacao                7\n",
              "nlu_fallback            6\n",
              "despedida               3\n",
              "negacao                 1\n",
              "Name: intent_name, dtype: int64"
            ]
          },
          "metadata": {
            "tags": []
          },
          "execution_count": 46
        }
      ]
    },
    {
      "cell_type": "markdown",
      "metadata": {
        "id": "WEQBhWTWYzuN"
      },
      "source": [
        "# Métricas\n",
        "\n",
        "## Verificação das intenções mais chamadas pelos usuários"
      ]
    },
    {
      "cell_type": "code",
      "metadata": {
        "colab": {
          "base_uri": "https://localhost:8080/",
          "height": 629
        },
        "id": "RhUIIl-yCzAV",
        "outputId": "3d5545b6-1d7c-40d0-ca91-6b68382c248f"
      },
      "source": [
        "(fig, ax) = plt.subplots(1, 1, figsize=(16, 10))\n",
        "\n",
        "counts = df.intent_name.value_counts()\n",
        "ax.bar(counts.index, counts)\n",
        "ax.set_title('Chamadas por intents', fontsize='xx-large')\n",
        "ax.set_xlabel('Intent name', fontsize='large')\n",
        "ax.set_ylabel('Número de chamadas',fontsize='large')\n",
        "plt.show()"
      ],
      "execution_count": 47,
      "outputs": [
        {
          "output_type": "display_data",
          "data": {
            "image/png": "[encoded data removed]",
            "text/plain": [
              "<Figure size 1152x720 with 1 Axes>"
            ]
          },
          "metadata": {
            "tags": [],
            "needs_background": "light"
          }
        }
      ]
    },
    {
      "cell_type": "markdown",
      "metadata": {
        "id": "UaWIc97oZO6y"
      },
      "source": [
        "Acima é possível observar os serviços mais utilizados pelos usuários do ponto de vista geral (valores absolutos)."
      ]
    },
    {
      "cell_type": "code",
      "metadata": {
        "colab": {
          "base_uri": "https://localhost:8080/",
          "height": 629
        },
        "id": "GctrFLylNk76",
        "outputId": "7d6ee104-84f9-4b82-8d14-a3c3e2ba17b7"
      },
      "source": [
        "intent_total = df.intent_name.value_counts().values.sum()\n",
        "\n",
        "(fig, ax) = plt.subplots(1, 1, figsize=(16, 10))\n",
        "\n",
        "counts_percent = df.intent_name.value_counts() / intent_total * 100\n",
        "ax.bar(counts.index, counts_percent, bottom=0)\n",
        "ax.bar(counts.index, 100 - counts_percent, bottom=counts_percent)\n",
        "\n",
        "ax.set_title('Chamadas por intents', fontsize='xx-large')\n",
        "ax.set_xlabel('Intent name', fontsize='large')\n",
        "ax.set_ylabel('% de chamadas',fontsize='large')\n",
        "plt.show()"
      ],
      "execution_count": 83,
      "outputs": [
        {
          "output_type": "display_data",
          "data": {
            "image/png": "[encoded data removed]",
            "text/plain": [
              "<Figure size 1152x720 with 1 Axes>"
            ]
          },
          "metadata": {
            "tags": [],
            "needs_background": "light"
          }
        }
      ]
    },
    {
      "cell_type": "markdown",
      "metadata": {
        "id": "V2WxRJz_Y9rK"
      },
      "source": [
        "Agora, é possível observar este mesmo indicador, mas em relação ao total de mensagens dos usuários (valores relativos - em %)."
      ]
    },
    {
      "cell_type": "markdown",
      "metadata": {
        "id": "urVOe32oZxCT"
      },
      "source": [
        "## Taxa de transbordo\n",
        "\n",
        "Ainda através do gráfico anterior, observa-se que o serviço mais utilizado pelos usuários é o de agendamento de atendimento. Este serviço, sob determinado ponto de vista, pode ser interpretado como a taxa de transbordo, uma vez que o bot não foi capaz de solucionar por completo a necessidade do usuário e precisou redirecionar o usuário para um atendimento humano/ presencial.\n",
        "\n",
        "Abaixo este indicador foi isolado para melhor representação numérica"
      ]
    },
    {
      "cell_type": "code",
      "metadata": {
        "colab": {
          "base_uri": "https://localhost:8080/"
        },
        "id": "08NCDfXRaFKl",
        "outputId": "b4e9c229-7354-402c-8d90-19d1d9bcb910"
      },
      "source": [
        "total_agendamento = df[df.intent_name == 'agendar_atendimento'].intent_name.count()\n",
        "taxa_transbordo = total_agendamento / intent_total * 100\n",
        "print(f'A taxa total de transbordo é de aproximadamente{taxa_transbordo: .2f}%.')"
      ],
      "execution_count": 134,
      "outputs": [
        {
          "output_type": "stream",
          "text": [
            "A taxa total de transbordo é de aproximadamente 20.99%.\n"
          ],
          "name": "stdout"
        }
      ]
    },
    {
      "cell_type": "markdown",
      "metadata": {
        "id": "WIZ9ypKRbrYH"
      },
      "source": [
        "## Taxa de fallback\n",
        "\n",
        "Sempre que o bot não é capaz de entender a mensagem enviada pelo usuário em determinado contexto com um percentual mínimo de segurança, ocorre o chamado *fallback*.\n",
        "\n",
        "Este indicador é representado pela intent ``nlu_fallback``, que também foi isolada abaixo para melhor visualização numérica."
      ]
    },
    {
      "cell_type": "code",
      "metadata": {
        "colab": {
          "base_uri": "https://localhost:8080/"
        },
        "id": "t5D6WfvBcJbm",
        "outputId": "7975990d-0c67-4605-b681-9c15b3b12229"
      },
      "source": [
        "total_nlu_fallback = df[df.intent_name == 'nlu_fallback'].intent_name.count()\n",
        "taxa_fallback = total_nlu_fallback / intent_total * 100\n",
        "print(f'A taxa total de fallback é de aproximadamente{taxa_fallback: .2f}%.')"
      ],
      "execution_count": 135,
      "outputs": [
        {
          "output_type": "stream",
          "text": [
            "A taxa total de fallback é de aproximadamente 7.41%.\n"
          ],
          "name": "stdout"
        }
      ]
    },
    {
      "cell_type": "markdown",
      "metadata": {
        "id": "GAzLvtOGcdTf"
      },
      "source": [
        "Lembrando que o ideal é reduzir ao máximo o fallback, no sentido de aumentar a *percepção* do bot, porém lembrando que em determinados casos é melhor \"não entender\" determinado input do usuário, do que entendê-lo, porém errado."
      ]
    },
    {
      "cell_type": "markdown",
      "metadata": {
        "id": "UHOEugxZcz0i"
      },
      "source": [
        "## Taxa de confiança\n",
        "\n",
        "A taxa de confiança indica o nível de *segurança* com qual o bot realizou a classificação da mensagem do usuário e agiu de acordo."
      ]
    },
    {
      "cell_type": "code",
      "metadata": {
        "colab": {
          "base_uri": "https://localhost:8080/"
        },
        "id": "SawnonVDdIsO",
        "outputId": "8599534b-d96d-4bd4-df20-df571c65e48b"
      },
      "source": [
        "intent_mean_confidence = df['parse_data.intent.confidence'].mean()\n",
        "taxa_confianca_intents = intent_mean_confidence * 100\n",
        "print(f'A confiança média para classificação das intents é de{taxa_confianca_intents: .2f}%.')"
      ],
      "execution_count": 136,
      "outputs": [
        {
          "output_type": "stream",
          "text": [
            "A confiança média para classificação das intents é de 94.90%.\n"
          ],
          "name": "stdout"
        }
      ]
    },
    {
      "cell_type": "markdown",
      "metadata": {
        "id": "JZBlH7sjh19K"
      },
      "source": [
        "Porém, há ainda a taxa de confiança com a qual o bot prevê as ações internas. Ou seja, é o nível de *segurança* com o qual o bot age conforme as ações do usuário."
      ]
    },
    {
      "cell_type": "code",
      "metadata": {
        "colab": {
          "base_uri": "https://localhost:8080/"
        },
        "id": "MwInLExugszh",
        "outputId": "72c39a5f-b5d7-42ef-c205-60238f323869"
      },
      "source": [
        "taxa_confianca_actions = df.confidence.mean() * 100\n",
        "print(f'A confiança média para definição das actions é de{taxa_confianca_actions: .2f}%.')"
      ],
      "execution_count": 138,
      "outputs": [
        {
          "output_type": "stream",
          "text": [
            "A confiança média para definição das actions é de 91.79%.\n"
          ],
          "name": "stdout"
        }
      ]
    },
    {
      "cell_type": "code",
      "metadata": {
        "colab": {
          "base_uri": "https://localhost:8080/"
        },
        "id": "gEPcqTfBjDGP",
        "outputId": "1669317d-295a-488d-89b3-33e61ae4e3c2"
      },
      "source": [
        "print(f'A confiança total média do bot é de{(taxa_confianca_actions + taxa_confianca_intents) / 2: .2f}%')"
      ],
      "execution_count": 140,
      "outputs": [
        {
          "output_type": "stream",
          "text": [
            "A confiança total média do bot é de 93.35%\n"
          ],
          "name": "stdout"
        }
      ]
    },
    {
      "cell_type": "markdown",
      "metadata": {
        "id": "Zhjj70Zgjx2n"
      },
      "source": [
        "## Acurácia, precisão, recall e F1-score"
      ]
    },
    {
      "cell_type": "code",
      "metadata": {
        "id": "T7Aq5b8LkwOZ"
      },
      "source": [
        "df_confusion_matrix = pd.concat([df.intent_name, df['parse_data.text'], df['parse_data.intent.confidence']], axis=1)\n",
        "df_confusion_matrix = df_confusion_matrix[df_confusion_matrix.intent_name.astype(str) != 'nan'].reset_index()\n",
        "df_confusion_matrix.to_csv('data_test.csv')"
      ],
      "execution_count": 175,
      "outputs": []
    },
    {
      "cell_type": "code",
      "metadata": {
        "id": "_BGob7XfmgV2"
      },
      "source": [
        "#Os valores preditos são aqueles que o próprio modelo classificou\n",
        "y_predicted = df_confusion_matrix.intent_name\n",
        "\n",
        "#Os valores de teste (comparação) são aqueles que passaram pela etapa de curadoria\n",
        "y_test = pd.read_csv('data_test.csv').intent_name"
      ],
      "execution_count": 176,
      "outputs": []
    },
    {
      "cell_type": "code",
      "metadata": {
        "colab": {
          "base_uri": "https://localhost:8080/",
          "height": 609
        },
        "id": "rACFVvF-nNfH",
        "outputId": "5ce2fc1a-6443-43d0-cc90-155896a11ac1"
      },
      "source": [
        "from sklearn.metrics import confusion_matrix\n",
        "confusion = confusion_matrix(y_test, y_predicted)\n",
        "\n",
        "import seaborn as sn\n",
        "plt.figure(figsize = (16,10))\n",
        "sn.heatmap(confusion, annot=True)"
      ],
      "execution_count": 213,
      "outputs": [
        {
          "output_type": "execute_result",
          "data": {
            "text/plain": [
              "<matplotlib.axes._subplots.AxesSubplot at 0x7f794e009ad0>"
            ]
          },
          "metadata": {
            "tags": []
          },
          "execution_count": 213
        },
        {
          "output_type": "display_data",
          "data": {
            "image/png": "[encoded data removed]",
            "text/plain": [
              "<Figure size 1152x720 with 2 Axes>"
            ]
          },
          "metadata": {
            "tags": [],
            "needs_background": "light"
          }
        }
      ]
    },
    {
      "cell_type": "code",
      "metadata": {
        "colab": {
          "base_uri": "https://localhost:8080/"
        },
        "id": "DqoCaDPXs0cB",
        "outputId": "6c21b1f3-b1d2-4b6f-caa2-15e09a5963e3"
      },
      "source": [
        "from sklearn.metrics import accuracy_score, precision_score, recall_score, f1_score\n",
        "print(f'Acurácia: {accuracy_score(y_test, y_predicted) * 100:.2f}%.')\n",
        "micro_precision = precision_score(y_test, y_predicted, average='micro')\n",
        "print(f'Micro Precision: {micro_precision * 100:.2f}%.')\n",
        "micro_recall = recall_score(y_test, y_predicted, average='micro')\n",
        "print(f'Micro Recall: {micro_recall * 100:.2f}%.')\n",
        "micro_f1score = f1_score(y_test, y_predicted, average='micro')\n",
        "print(f'Micro F1-score: {micro_f1score * 100:.2f}%')\n",
        "macro_precision = precision_score(y_test, y_predicted, average='macro')\n",
        "print(f'Macro Precision: {macro_precision * 100:.2f}%.')\n",
        "macro_recall = recall_score(y_test, y_predicted, average='macro')\n",
        "print(f'Macro Recall: {macro_recall * 100:.2f}%.')\n",
        "macro_f1score = f1_score(y_test, y_predicted, average='macro')\n",
        "print(f'Macro F1-score: {macro_f1score * 100:.2f}%')\n",
        "\n",
        "weighted_precision = precision_score(y_test, y_predicted, average='weighted')\n",
        "print(f'Weighted Precision: {weighted_precision * 100:.2f}%.')\n",
        "weighted_recall = recall_score(y_test, y_predicted, average='weighted')\n",
        "print(f'Weighted Recall: {weighted_recall * 100:.2f}%.')\n",
        "weighted_f1score = f1_score(y_test, y_predicted, average='weighted')\n",
        "print(f'Weighted F1-score: {weighted_f1score * 100:.2f}%')"
      ],
      "execution_count": 204,
      "outputs": [
        {
          "output_type": "stream",
          "text": [
            "Acurácia: 87.65%.\n",
            "Micro Precision: 87.65%.\n",
            "Micro Recall: 87.65%.\n",
            "Micro F1-score: 87.65%\n",
            "Macro Precision: 87.65%.\n",
            "Macro Recall: 83.03%.\n",
            "Macro F1-score: 84.32%\n",
            "Weighted Precision: 96.22%.\n",
            "Weighted Recall: 87.65%.\n",
            "Weighted F1-score: 90.13%\n"
          ],
          "name": "stdout"
        },
        {
          "output_type": "stream",
          "text": [
            "/usr/local/lib/python3.7/dist-packages/sklearn/metrics/_classification.py:1272: UndefinedMetricWarning: Recall is ill-defined and being set to 0.0 in labels with no true samples. Use `zero_division` parameter to control this behavior.\n",
            "  _warn_prf(average, modifier, msg_start, len(result))\n"
          ],
          "name": "stderr"
        }
      ]
    },
    {
      "cell_type": "markdown",
      "metadata": {
        "id": "tQPjd0QQdOBU"
      },
      "source": [
        "## Alocação interna do bot\n",
        "\n",
        "Uma vez que o bot está em execução e o usuário abre a janela para interação com o mesmo, o processamento do bot já está sendo realizado. A seguir podemos observar a alocação do tempo do bot."
      ]
    },
    {
      "cell_type": "code",
      "metadata": {
        "colab": {
          "base_uri": "https://localhost:8080/",
          "height": 629
        },
        "id": "tOS1PSrrDxKP",
        "outputId": "e9a9c034-7ded-4c40-be87-c49cb96e17b9"
      },
      "source": [
        "(fig, ax) = plt.subplots(1, 1, figsize=(16, 10))\n",
        "\n",
        "counts = df.action_name.value_counts()\n",
        "ax.barh(counts.index, counts)\n",
        "ax.set_title('Chamadas por actions', fontsize='xx-large')\n",
        "ax.set_xlabel('Action name', fontsize='large')\n",
        "ax.set_ylabel('Número de chamadas',fontsize='large')\n",
        "plt.show()"
      ],
      "execution_count": 39,
      "outputs": [
        {
          "output_type": "display_data",
          "data": {
            "image/png": "[encoded data removed]",
            "text/plain": [
              "<Figure size 1152x720 with 1 Axes>"
            ]
          },
          "metadata": {
            "tags": [],
            "needs_background": "light"
          }
        }
      ]
    },
    {
      "cell_type": "markdown",
      "metadata": {
        "id": "ayBk_mTndkoz"
      },
      "source": [
        "A atenção especial neste caso vai ao \"tempo ocioso\", representado pela *action* ``action_listen``, ou seja, é a quantidade de vezes que o bot fica aguardando alguma mensagem do usuário."
      ]
    }
  ]
}