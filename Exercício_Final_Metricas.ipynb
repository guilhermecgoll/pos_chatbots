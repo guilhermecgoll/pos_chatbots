{
  "nbformat": 4,
  "nbformat_minor": 0,
  "metadata": {
    "colab": {
      "name": "Exercício Final.ipynb",
      "provenance": []
    },
    "kernelspec": {
      "name": "python3",
      "display_name": "Python 3"
    },
    "language_info": {
      "name": "python"
    }
  },
  "cells": [
    {
      "cell_type": "code",
      "metadata": {
        "id": "cgjNXufloiCO"
      },
      "source": [
        "import numpy as np\n",
        "import pandas as pd\n",
        "import matplotlib.pyplot as plt\n",
        "import json"
      ],
      "execution_count": 1,
      "outputs": []
    },
    {
      "cell_type": "code",
      "metadata": {
        "colab": {
          "base_uri": "https://localhost:8080/"
        },
        "id": "OMeknyRKALbA",
        "outputId": "f521fdd4-6f2e-457d-ca00-7a1fc587052d"
      },
      "source": [
        "df = pd.read_csv('data.csv')\n",
        "df.count"
      ],
      "execution_count": 33,
      "outputs": [
        {
          "output_type": "execute_result",
          "data": {
            "text/plain": [
              "<bound method DataFrame.count of       id  ...                                               data\n",
              "0      1  ...  {\"event\": \"action\", \"timestamp\": 1618616140.48...\n",
              "1      2  ...  {\"event\": \"session_started\", \"timestamp\": 1618...\n",
              "2      3  ...  {\"event\": \"action\", \"timestamp\": 1618616140.48...\n",
              "3      4  ...  {\"event\": \"user\", \"timestamp\": 1618616140.8380...\n",
              "4      5  ...  {\"event\": \"user_featurization\", \"timestamp\": 1...\n",
              "..   ...  ...                                                ...\n",
              "601  602  ...  {\"event\": \"slot\", \"timestamp\": 1618763138.8643...\n",
              "602  603  ...  {\"event\": \"active_loop\", \"timestamp\": 16187631...\n",
              "603  604  ...  {\"event\": \"action\", \"timestamp\": 1618763138.87...\n",
              "604  605  ...  {\"event\": \"bot\", \"timestamp\": 1618763138.87259...\n",
              "605  606  ...  {\"event\": \"action\", \"timestamp\": 1618763138.88...\n",
              "\n",
              "[606 rows x 7 columns]>"
            ]
          },
          "metadata": {
            "tags": []
          },
          "execution_count": 33
        }
      ]
    },
    {
      "cell_type": "code",
      "metadata": {
        "colab": {
          "base_uri": "https://localhost:8080/"
        },
        "id": "kVXWLV-8APZn",
        "outputId": "9ee6fd37-72e8-4dcb-c8d0-2c501d479d91"
      },
      "source": [
        "#Converte os dados na coluna 'data' (em json) para colunas no dataframe\n",
        "df = pd.concat([df, pd.io.json.json_normalize(df.data.apply(json.loads))], axis=1)\n",
        "df.count"
      ],
      "execution_count": 34,
      "outputs": [
        {
          "output_type": "stream",
          "text": [
            "/usr/local/lib/python3.7/dist-packages/ipykernel_launcher.py:2: FutureWarning: pandas.io.json.json_normalize is deprecated, use pandas.json_normalize instead\n",
            "  \n"
          ],
          "name": "stderr"
        },
        {
          "output_type": "execute_result",
          "data": {
            "text/plain": [
              "<bound method DataFrame.count of       id                             sender_id  ... data.custom  value\n",
              "0      1  5ef090cb-cf75-425f-a23c-baa8769811b2  ...         NaN    NaN\n",
              "1      2  5ef090cb-cf75-425f-a23c-baa8769811b2  ...         NaN    NaN\n",
              "2      3  5ef090cb-cf75-425f-a23c-baa8769811b2  ...         NaN    NaN\n",
              "3      4  5ef090cb-cf75-425f-a23c-baa8769811b2  ...         NaN    NaN\n",
              "4      5  5ef090cb-cf75-425f-a23c-baa8769811b2  ...         NaN    NaN\n",
              "..   ...                                   ...  ...         ...    ...\n",
              "601  602  cc213fa7-ecbf-4f0e-8fb3-58c2206a934a  ...         NaN   None\n",
              "602  603  cc213fa7-ecbf-4f0e-8fb3-58c2206a934a  ...         NaN    NaN\n",
              "603  604  cc213fa7-ecbf-4f0e-8fb3-58c2206a934a  ...         NaN    NaN\n",
              "604  605  cc213fa7-ecbf-4f0e-8fb3-58c2206a934a  ...         NaN    NaN\n",
              "605  606  cc213fa7-ecbf-4f0e-8fb3-58c2206a934a  ...         NaN    NaN\n",
              "\n",
              "[606 rows x 41 columns]>"
            ]
          },
          "metadata": {
            "tags": []
          },
          "execution_count": 34
        }
      ]
    },
    {
      "cell_type": "code",
      "metadata": {
        "colab": {
          "base_uri": "https://localhost:8080/",
          "height": 479
        },
        "id": "omjSzD0RAumB",
        "outputId": "68a15c75-620e-4701-e88b-051639920e6b"
      },
      "source": [
        "df.head()"
      ],
      "execution_count": 35,
      "outputs": [
        {
          "output_type": "execute_result",
          "data": {
            "text/html": [
              "<div>\n",
              "<style scoped>\n",
              "    .dataframe tbody tr th:only-of-type {\n",
              "        vertical-align: middle;\n",
              "    }\n",
              "\n",
              "    .dataframe tbody tr th {\n",
              "        vertical-align: top;\n",
              "    }\n",
              "\n",
              "    .dataframe thead th {\n",
              "        text-align: right;\n",
              "    }\n",
              "</style>\n",
              "<table border=\"1\" class=\"dataframe\">\n",
              "  <thead>\n",
              "    <tr style=\"text-align: right;\">\n",
              "      <th></th>\n",
              "      <th>id</th>\n",
              "      <th>sender_id</th>\n",
              "      <th>type_name</th>\n",
              "      <th>timestamp</th>\n",
              "      <th>intent_name</th>\n",
              "      <th>action_name</th>\n",
              "      <th>data</th>\n",
              "      <th>event</th>\n",
              "      <th>timestamp</th>\n",
              "      <th>name</th>\n",
              "      <th>policy</th>\n",
              "      <th>confidence</th>\n",
              "      <th>action_text</th>\n",
              "      <th>text</th>\n",
              "      <th>input_channel</th>\n",
              "      <th>message_id</th>\n",
              "      <th>parse_data.intent.id</th>\n",
              "      <th>parse_data.intent.name</th>\n",
              "      <th>parse_data.intent.confidence</th>\n",
              "      <th>parse_data.entities</th>\n",
              "      <th>parse_data.text</th>\n",
              "      <th>parse_data.message_id</th>\n",
              "      <th>parse_data.intent_ranking</th>\n",
              "      <th>parse_data.response_selector.all_retrieval_intents</th>\n",
              "      <th>parse_data.response_selector.default.response.id</th>\n",
              "      <th>parse_data.response_selector.default.response.responses</th>\n",
              "      <th>parse_data.response_selector.default.response.response_templates</th>\n",
              "      <th>parse_data.response_selector.default.response.confidence</th>\n",
              "      <th>parse_data.response_selector.default.response.intent_response_key</th>\n",
              "      <th>parse_data.response_selector.default.response.utter_action</th>\n",
              "      <th>parse_data.response_selector.default.response.template_name</th>\n",
              "      <th>parse_data.response_selector.default.ranking</th>\n",
              "      <th>use_text_for_featurization</th>\n",
              "      <th>metadata.utter_action</th>\n",
              "      <th>data.elements</th>\n",
              "      <th>data.quick_replies</th>\n",
              "      <th>data.buttons</th>\n",
              "      <th>data.attachment</th>\n",
              "      <th>data.image</th>\n",
              "      <th>data.custom</th>\n",
              "      <th>value</th>\n",
              "    </tr>\n",
              "  </thead>\n",
              "  <tbody>\n",
              "    <tr>\n",
              "      <th>0</th>\n",
              "      <td>1</td>\n",
              "      <td>5ef090cb-cf75-425f-a23c-baa8769811b2</td>\n",
              "      <td>action</td>\n",
              "      <td>1.618616e+09</td>\n",
              "      <td>NaN</td>\n",
              "      <td>action_session_start</td>\n",
              "      <td>{\"event\": \"action\", \"timestamp\": 1618616140.48...</td>\n",
              "      <td>action</td>\n",
              "      <td>1.618616e+09</td>\n",
              "      <td>action_session_start</td>\n",
              "      <td>None</td>\n",
              "      <td>1.0</td>\n",
              "      <td>NaN</td>\n",
              "      <td>NaN</td>\n",
              "      <td>NaN</td>\n",
              "      <td>NaN</td>\n",
              "      <td>NaN</td>\n",
              "      <td>NaN</td>\n",
              "      <td>NaN</td>\n",
              "      <td>NaN</td>\n",
              "      <td>NaN</td>\n",
              "      <td>NaN</td>\n",
              "      <td>NaN</td>\n",
              "      <td>NaN</td>\n",
              "      <td>NaN</td>\n",
              "      <td>NaN</td>\n",
              "      <td>NaN</td>\n",
              "      <td>NaN</td>\n",
              "      <td>NaN</td>\n",
              "      <td>NaN</td>\n",
              "      <td>NaN</td>\n",
              "      <td>NaN</td>\n",
              "      <td>NaN</td>\n",
              "      <td>NaN</td>\n",
              "      <td>NaN</td>\n",
              "      <td>NaN</td>\n",
              "      <td>NaN</td>\n",
              "      <td>NaN</td>\n",
              "      <td>NaN</td>\n",
              "      <td>NaN</td>\n",
              "      <td>NaN</td>\n",
              "    </tr>\n",
              "    <tr>\n",
              "      <th>1</th>\n",
              "      <td>2</td>\n",
              "      <td>5ef090cb-cf75-425f-a23c-baa8769811b2</td>\n",
              "      <td>session_started</td>\n",
              "      <td>1.618616e+09</td>\n",
              "      <td>NaN</td>\n",
              "      <td>NaN</td>\n",
              "      <td>{\"event\": \"session_started\", \"timestamp\": 1618...</td>\n",
              "      <td>session_started</td>\n",
              "      <td>1.618616e+09</td>\n",
              "      <td>NaN</td>\n",
              "      <td>NaN</td>\n",
              "      <td>NaN</td>\n",
              "      <td>NaN</td>\n",
              "      <td>NaN</td>\n",
              "      <td>NaN</td>\n",
              "      <td>NaN</td>\n",
              "      <td>NaN</td>\n",
              "      <td>NaN</td>\n",
              "      <td>NaN</td>\n",
              "      <td>NaN</td>\n",
              "      <td>NaN</td>\n",
              "      <td>NaN</td>\n",
              "      <td>NaN</td>\n",
              "      <td>NaN</td>\n",
              "      <td>NaN</td>\n",
              "      <td>NaN</td>\n",
              "      <td>NaN</td>\n",
              "      <td>NaN</td>\n",
              "      <td>NaN</td>\n",
              "      <td>NaN</td>\n",
              "      <td>NaN</td>\n",
              "      <td>NaN</td>\n",
              "      <td>NaN</td>\n",
              "      <td>NaN</td>\n",
              "      <td>NaN</td>\n",
              "      <td>NaN</td>\n",
              "      <td>NaN</td>\n",
              "      <td>NaN</td>\n",
              "      <td>NaN</td>\n",
              "      <td>NaN</td>\n",
              "      <td>NaN</td>\n",
              "    </tr>\n",
              "    <tr>\n",
              "      <th>2</th>\n",
              "      <td>3</td>\n",
              "      <td>5ef090cb-cf75-425f-a23c-baa8769811b2</td>\n",
              "      <td>action</td>\n",
              "      <td>1.618616e+09</td>\n",
              "      <td>NaN</td>\n",
              "      <td>action_listen</td>\n",
              "      <td>{\"event\": \"action\", \"timestamp\": 1618616140.48...</td>\n",
              "      <td>action</td>\n",
              "      <td>1.618616e+09</td>\n",
              "      <td>action_listen</td>\n",
              "      <td>None</td>\n",
              "      <td>NaN</td>\n",
              "      <td>NaN</td>\n",
              "      <td>NaN</td>\n",
              "      <td>NaN</td>\n",
              "      <td>NaN</td>\n",
              "      <td>NaN</td>\n",
              "      <td>NaN</td>\n",
              "      <td>NaN</td>\n",
              "      <td>NaN</td>\n",
              "      <td>NaN</td>\n",
              "      <td>NaN</td>\n",
              "      <td>NaN</td>\n",
              "      <td>NaN</td>\n",
              "      <td>NaN</td>\n",
              "      <td>NaN</td>\n",
              "      <td>NaN</td>\n",
              "      <td>NaN</td>\n",
              "      <td>NaN</td>\n",
              "      <td>NaN</td>\n",
              "      <td>NaN</td>\n",
              "      <td>NaN</td>\n",
              "      <td>NaN</td>\n",
              "      <td>NaN</td>\n",
              "      <td>NaN</td>\n",
              "      <td>NaN</td>\n",
              "      <td>NaN</td>\n",
              "      <td>NaN</td>\n",
              "      <td>NaN</td>\n",
              "      <td>NaN</td>\n",
              "      <td>NaN</td>\n",
              "    </tr>\n",
              "    <tr>\n",
              "      <th>3</th>\n",
              "      <td>4</td>\n",
              "      <td>5ef090cb-cf75-425f-a23c-baa8769811b2</td>\n",
              "      <td>user</td>\n",
              "      <td>1.618616e+09</td>\n",
              "      <td>saudacao</td>\n",
              "      <td>NaN</td>\n",
              "      <td>{\"event\": \"user\", \"timestamp\": 1618616140.8380...</td>\n",
              "      <td>user</td>\n",
              "      <td>1.618616e+09</td>\n",
              "      <td>NaN</td>\n",
              "      <td>NaN</td>\n",
              "      <td>NaN</td>\n",
              "      <td>NaN</td>\n",
              "      <td>oi</td>\n",
              "      <td>rest</td>\n",
              "      <td>e6785e9a148c4f5bac2234a8c6e791e6</td>\n",
              "      <td>1.117066e+18</td>\n",
              "      <td>saudacao</td>\n",
              "      <td>0.999581</td>\n",
              "      <td>[]</td>\n",
              "      <td>oi</td>\n",
              "      <td>e6785e9a148c4f5bac2234a8c6e791e6</td>\n",
              "      <td>[{'id': 1117065996515008408, 'name': 'saudacao...</td>\n",
              "      <td>[]</td>\n",
              "      <td>NaN</td>\n",
              "      <td>NaN</td>\n",
              "      <td>NaN</td>\n",
              "      <td>0.0</td>\n",
              "      <td>NaN</td>\n",
              "      <td>utter_None</td>\n",
              "      <td>utter_None</td>\n",
              "      <td>[]</td>\n",
              "      <td>NaN</td>\n",
              "      <td>NaN</td>\n",
              "      <td>NaN</td>\n",
              "      <td>NaN</td>\n",
              "      <td>NaN</td>\n",
              "      <td>NaN</td>\n",
              "      <td>NaN</td>\n",
              "      <td>NaN</td>\n",
              "      <td>NaN</td>\n",
              "    </tr>\n",
              "    <tr>\n",
              "      <th>4</th>\n",
              "      <td>5</td>\n",
              "      <td>5ef090cb-cf75-425f-a23c-baa8769811b2</td>\n",
              "      <td>user_featurization</td>\n",
              "      <td>1.618616e+09</td>\n",
              "      <td>NaN</td>\n",
              "      <td>NaN</td>\n",
              "      <td>{\"event\": \"user_featurization\", \"timestamp\": 1...</td>\n",
              "      <td>user_featurization</td>\n",
              "      <td>1.618616e+09</td>\n",
              "      <td>NaN</td>\n",
              "      <td>NaN</td>\n",
              "      <td>NaN</td>\n",
              "      <td>NaN</td>\n",
              "      <td>NaN</td>\n",
              "      <td>NaN</td>\n",
              "      <td>NaN</td>\n",
              "      <td>NaN</td>\n",
              "      <td>NaN</td>\n",
              "      <td>NaN</td>\n",
              "      <td>NaN</td>\n",
              "      <td>NaN</td>\n",
              "      <td>NaN</td>\n",
              "      <td>NaN</td>\n",
              "      <td>NaN</td>\n",
              "      <td>NaN</td>\n",
              "      <td>NaN</td>\n",
              "      <td>NaN</td>\n",
              "      <td>NaN</td>\n",
              "      <td>NaN</td>\n",
              "      <td>NaN</td>\n",
              "      <td>NaN</td>\n",
              "      <td>NaN</td>\n",
              "      <td>False</td>\n",
              "      <td>NaN</td>\n",
              "      <td>NaN</td>\n",
              "      <td>NaN</td>\n",
              "      <td>NaN</td>\n",
              "      <td>NaN</td>\n",
              "      <td>NaN</td>\n",
              "      <td>NaN</td>\n",
              "      <td>NaN</td>\n",
              "    </tr>\n",
              "  </tbody>\n",
              "</table>\n",
              "</div>"
            ],
            "text/plain": [
              "   id                             sender_id  ... data.custom  value\n",
              "0   1  5ef090cb-cf75-425f-a23c-baa8769811b2  ...         NaN    NaN\n",
              "1   2  5ef090cb-cf75-425f-a23c-baa8769811b2  ...         NaN    NaN\n",
              "2   3  5ef090cb-cf75-425f-a23c-baa8769811b2  ...         NaN    NaN\n",
              "3   4  5ef090cb-cf75-425f-a23c-baa8769811b2  ...         NaN    NaN\n",
              "4   5  5ef090cb-cf75-425f-a23c-baa8769811b2  ...         NaN    NaN\n",
              "\n",
              "[5 rows x 41 columns]"
            ]
          },
          "metadata": {
            "tags": []
          },
          "execution_count": 35
        }
      ]
    },
    {
      "cell_type": "code",
      "metadata": {
        "colab": {
          "base_uri": "https://localhost:8080/"
        },
        "id": "SpwvGdwPAQlm",
        "outputId": "5c7fcea4-d8af-43b8-e411-c3e4829f69db"
      },
      "source": [
        "df.sender_id.value_counts()"
      ],
      "execution_count": 36,
      "outputs": [
        {
          "output_type": "execute_result",
          "data": {
            "text/plain": [
              "5fb7ea77-b8af-44bc-901b-6583022e8247    255\n",
              "278906b1-31e5-44b8-9f0a-b292e1cc6b2d    109\n",
              "31ad31408ce043d7ad6278996202bca6         80\n",
              "cc213fa7-ecbf-4f0e-8fb3-58c2206a934a     74\n",
              "02d6ec1b-656c-4aae-b697-4b16c54d7e94     56\n",
              "5ef090cb-cf75-425f-a23c-baa8769811b2     32\n",
              "Name: sender_id, dtype: int64"
            ]
          },
          "metadata": {
            "tags": []
          },
          "execution_count": 36
        }
      ]
    },
    {
      "cell_type": "code",
      "metadata": {
        "colab": {
          "base_uri": "https://localhost:8080/"
        },
        "id": "aGZkuaTFClXu",
        "outputId": "7d3dbddb-3cb4-4646-8bd7-8207eb22855a"
      },
      "source": [
        "df.intent_name.value_counts()"
      ],
      "execution_count": 37,
      "outputs": [
        {
          "output_type": "execute_result",
          "data": {
            "text/plain": [
              "agendar_atendimento    17\n",
              "ajuda                  13\n",
              "alvara_sanitario       10\n",
              "confirmacao             9\n",
              "consultar_iptu          8\n",
              "ligar_eletricidade      7\n",
              "saudacao                7\n",
              "nlu_fallback            6\n",
              "despedida               3\n",
              "negacao                 1\n",
              "Name: intent_name, dtype: int64"
            ]
          },
          "metadata": {
            "tags": []
          },
          "execution_count": 37
        }
      ]
    },
    {
      "cell_type": "code",
      "metadata": {
        "colab": {
          "base_uri": "https://localhost:8080/",
          "height": 629
        },
        "id": "RhUIIl-yCzAV",
        "outputId": "bf600a72-bfef-4c02-d341-e11ded6b61ef"
      },
      "source": [
        "(fig, ax) = plt.subplots(1, 1, figsize=(16, 10))\n",
        "\n",
        "counts = df.intent_name.value_counts()\n",
        "ax.bar(counts.index, counts)\n",
        "ax.set_title('Chamadas por intents', fontsize='xx-large')\n",
        "ax.set_xlabel('Intent name', fontsize='large')\n",
        "ax.set_ylabel('Número de chamadas',fontsize='large')\n",
        "plt.show()"
      ],
      "execution_count": 38,
      "outputs": [
        {
          "output_type": "display_data",
          "data": {
            "image/png": "[encoded data removed]",
            "text/plain": [
              "<Figure size 1152x720 with 1 Axes>"
            ]
          },
          "metadata": {
            "tags": [],
            "needs_background": "light"
          }
        }
      ]
    },
    {
      "cell_type": "code",
      "metadata": {
        "colab": {
          "base_uri": "https://localhost:8080/",
          "height": 629
        },
        "id": "tOS1PSrrDxKP",
        "outputId": "e9a9c034-7ded-4c40-be87-c49cb96e17b9"
      },
      "source": [
        "(fig, ax) = plt.subplots(1, 1, figsize=(16, 10))\n",
        "\n",
        "counts = df.action_name.value_counts()\n",
        "ax.barh(counts.index, counts)\n",
        "ax.set_title('Chamadas por actions', fontsize='xx-large')\n",
        "ax.set_xlabel('Action name', fontsize='large')\n",
        "ax.set_ylabel('Número de chamadas',fontsize='large')\n",
        "plt.show()"
      ],
      "execution_count": 39,
      "outputs": [
        {
          "output_type": "display_data",
          "data": {
            "image/png": "[encoded data removed]",
            "text/plain": [
              "<Figure size 1152x720 with 1 Axes>"
            ]
          },
          "metadata": {
            "tags": [],
            "needs_background": "light"
          }
        }
      ]
    },
    {
      "cell_type": "code",
      "metadata": {
        "colab": {
          "base_uri": "https://localhost:8080/",
          "height": 317
        },
        "id": "n98GiiiXGmEo",
        "outputId": "3734f77b-8489-485e-85b5-84a1ce15cabb"
      },
      "source": [
        "df.describe()"
      ],
      "execution_count": 40,
      "outputs": [
        {
          "output_type": "execute_result",
          "data": {
            "text/html": [
              "<div>\n",
              "<style scoped>\n",
              "    .dataframe tbody tr th:only-of-type {\n",
              "        vertical-align: middle;\n",
              "    }\n",
              "\n",
              "    .dataframe tbody tr th {\n",
              "        vertical-align: top;\n",
              "    }\n",
              "\n",
              "    .dataframe thead th {\n",
              "        text-align: right;\n",
              "    }\n",
              "</style>\n",
              "<table border=\"1\" class=\"dataframe\">\n",
              "  <thead>\n",
              "    <tr style=\"text-align: right;\">\n",
              "      <th></th>\n",
              "      <th>id</th>\n",
              "      <th>timestamp</th>\n",
              "      <th>timestamp</th>\n",
              "      <th>confidence</th>\n",
              "      <th>action_text</th>\n",
              "      <th>parse_data.intent.id</th>\n",
              "      <th>parse_data.intent.confidence</th>\n",
              "      <th>parse_data.response_selector.default.response.id</th>\n",
              "      <th>parse_data.response_selector.default.response.responses</th>\n",
              "      <th>parse_data.response_selector.default.response.response_templates</th>\n",
              "      <th>parse_data.response_selector.default.response.confidence</th>\n",
              "      <th>parse_data.response_selector.default.response.intent_response_key</th>\n",
              "      <th>data.elements</th>\n",
              "      <th>data.quick_replies</th>\n",
              "      <th>data.attachment</th>\n",
              "      <th>data.image</th>\n",
              "      <th>data.custom</th>\n",
              "    </tr>\n",
              "  </thead>\n",
              "  <tbody>\n",
              "    <tr>\n",
              "      <th>count</th>\n",
              "      <td>606.00000</td>\n",
              "      <td>6.060000e+02</td>\n",
              "      <td>6.060000e+02</td>\n",
              "      <td>207.000000</td>\n",
              "      <td>0.0</td>\n",
              "      <td>6.200000e+01</td>\n",
              "      <td>81.000000</td>\n",
              "      <td>0.0</td>\n",
              "      <td>0.0</td>\n",
              "      <td>0.0</td>\n",
              "      <td>68.0</td>\n",
              "      <td>0.0</td>\n",
              "      <td>0.0</td>\n",
              "      <td>0.0</td>\n",
              "      <td>0.0</td>\n",
              "      <td>0.0</td>\n",
              "      <td>0.0</td>\n",
              "    </tr>\n",
              "    <tr>\n",
              "      <th>mean</th>\n",
              "      <td>303.50000</td>\n",
              "      <td>1.618726e+09</td>\n",
              "      <td>1.618726e+09</td>\n",
              "      <td>0.917934</td>\n",
              "      <td>NaN</td>\n",
              "      <td>-9.969229e+17</td>\n",
              "      <td>0.948977</td>\n",
              "      <td>NaN</td>\n",
              "      <td>NaN</td>\n",
              "      <td>NaN</td>\n",
              "      <td>0.0</td>\n",
              "      <td>NaN</td>\n",
              "      <td>NaN</td>\n",
              "      <td>NaN</td>\n",
              "      <td>NaN</td>\n",
              "      <td>NaN</td>\n",
              "      <td>NaN</td>\n",
              "    </tr>\n",
              "    <tr>\n",
              "      <th>std</th>\n",
              "      <td>175.08141</td>\n",
              "      <td>4.210998e+04</td>\n",
              "      <td>4.210998e+04</td>\n",
              "      <td>0.181443</td>\n",
              "      <td>NaN</td>\n",
              "      <td>4.553892e+18</td>\n",
              "      <td>0.146572</td>\n",
              "      <td>NaN</td>\n",
              "      <td>NaN</td>\n",
              "      <td>NaN</td>\n",
              "      <td>0.0</td>\n",
              "      <td>NaN</td>\n",
              "      <td>NaN</td>\n",
              "      <td>NaN</td>\n",
              "      <td>NaN</td>\n",
              "      <td>NaN</td>\n",
              "      <td>NaN</td>\n",
              "    </tr>\n",
              "    <tr>\n",
              "      <th>min</th>\n",
              "      <td>1.00000</td>\n",
              "      <td>1.618616e+09</td>\n",
              "      <td>1.618616e+09</td>\n",
              "      <td>0.300000</td>\n",
              "      <td>NaN</td>\n",
              "      <td>-8.306835e+18</td>\n",
              "      <td>0.359421</td>\n",
              "      <td>NaN</td>\n",
              "      <td>NaN</td>\n",
              "      <td>NaN</td>\n",
              "      <td>0.0</td>\n",
              "      <td>NaN</td>\n",
              "      <td>NaN</td>\n",
              "      <td>NaN</td>\n",
              "      <td>NaN</td>\n",
              "      <td>NaN</td>\n",
              "      <td>NaN</td>\n",
              "    </tr>\n",
              "    <tr>\n",
              "      <th>25%</th>\n",
              "      <td>152.25000</td>\n",
              "      <td>1.618687e+09</td>\n",
              "      <td>1.618687e+09</td>\n",
              "      <td>0.934246</td>\n",
              "      <td>NaN</td>\n",
              "      <td>-5.104035e+18</td>\n",
              "      <td>0.990514</td>\n",
              "      <td>NaN</td>\n",
              "      <td>NaN</td>\n",
              "      <td>NaN</td>\n",
              "      <td>0.0</td>\n",
              "      <td>NaN</td>\n",
              "      <td>NaN</td>\n",
              "      <td>NaN</td>\n",
              "      <td>NaN</td>\n",
              "      <td>NaN</td>\n",
              "      <td>NaN</td>\n",
              "    </tr>\n",
              "    <tr>\n",
              "      <th>50%</th>\n",
              "      <td>303.50000</td>\n",
              "      <td>1.618746e+09</td>\n",
              "      <td>1.618746e+09</td>\n",
              "      <td>0.997410</td>\n",
              "      <td>NaN</td>\n",
              "      <td>-5.292040e+17</td>\n",
              "      <td>0.998779</td>\n",
              "      <td>NaN</td>\n",
              "      <td>NaN</td>\n",
              "      <td>NaN</td>\n",
              "      <td>0.0</td>\n",
              "      <td>NaN</td>\n",
              "      <td>NaN</td>\n",
              "      <td>NaN</td>\n",
              "      <td>NaN</td>\n",
              "      <td>NaN</td>\n",
              "      <td>NaN</td>\n",
              "    </tr>\n",
              "    <tr>\n",
              "      <th>75%</th>\n",
              "      <td>454.75000</td>\n",
              "      <td>1.618763e+09</td>\n",
              "      <td>1.618763e+09</td>\n",
              "      <td>1.000000</td>\n",
              "      <td>NaN</td>\n",
              "      <td>3.102981e+18</td>\n",
              "      <td>0.999895</td>\n",
              "      <td>NaN</td>\n",
              "      <td>NaN</td>\n",
              "      <td>NaN</td>\n",
              "      <td>0.0</td>\n",
              "      <td>NaN</td>\n",
              "      <td>NaN</td>\n",
              "      <td>NaN</td>\n",
              "      <td>NaN</td>\n",
              "      <td>NaN</td>\n",
              "      <td>NaN</td>\n",
              "    </tr>\n",
              "    <tr>\n",
              "      <th>max</th>\n",
              "      <td>606.00000</td>\n",
              "      <td>1.618763e+09</td>\n",
              "      <td>1.618763e+09</td>\n",
              "      <td>1.000000</td>\n",
              "      <td>NaN</td>\n",
              "      <td>8.477700e+18</td>\n",
              "      <td>1.000000</td>\n",
              "      <td>NaN</td>\n",
              "      <td>NaN</td>\n",
              "      <td>NaN</td>\n",
              "      <td>0.0</td>\n",
              "      <td>NaN</td>\n",
              "      <td>NaN</td>\n",
              "      <td>NaN</td>\n",
              "      <td>NaN</td>\n",
              "      <td>NaN</td>\n",
              "      <td>NaN</td>\n",
              "    </tr>\n",
              "  </tbody>\n",
              "</table>\n",
              "</div>"
            ],
            "text/plain": [
              "              id     timestamp  ...  data.image  data.custom\n",
              "count  606.00000  6.060000e+02  ...         0.0          0.0\n",
              "mean   303.50000  1.618726e+09  ...         NaN          NaN\n",
              "std    175.08141  4.210998e+04  ...         NaN          NaN\n",
              "min      1.00000  1.618616e+09  ...         NaN          NaN\n",
              "25%    152.25000  1.618687e+09  ...         NaN          NaN\n",
              "50%    303.50000  1.618746e+09  ...         NaN          NaN\n",
              "75%    454.75000  1.618763e+09  ...         NaN          NaN\n",
              "max    606.00000  1.618763e+09  ...         NaN          NaN\n",
              "\n",
              "[8 rows x 17 columns]"
            ]
          },
          "metadata": {
            "tags": []
          },
          "execution_count": 40
        }
      ]
    },
    {
      "cell_type": "code",
      "metadata": {
        "id": "xhD4ypf4WeRa"
      },
      "source": [
        ""
      ],
      "execution_count": null,
      "outputs": []
    }
  ]
}